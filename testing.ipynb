{
 "cells": [
  {
   "cell_type": "code",
   "execution_count": null,
   "id": "7cd73ca8-afd1-41ca-943e-a3598a4a9549",
   "metadata": {},
   "outputs": [],
   "source": [
    "import torch\n",
    "from torch_geometric.datasets import MoleculeNet\n",
    "from torch_geometric.loader import DataLoader\n",
    "from torch_geometric.data import Data\n",
    "from torch.utils.data import Subset"
   ]
  },
  {
   "cell_type": "code",
   "execution_count": null,
   "id": "c4c26cb6-f12b-43ea-9482-455cbb4e42d2",
   "metadata": {},
   "outputs": [],
   "source": [
    "# !pip install rdkit"
   ]
  },
  {
   "cell_type": "code",
   "execution_count": null,
   "id": "1d360dec-8745-4fee-adcf-4aeb6c35be95",
   "metadata": {},
   "outputs": [],
   "source": [
    "from torch_geometric.datasets import QM9\n",
    "\n",
    "qm9 = QM9(root='./', transform=None, pre_transform=None)"
   ]
  },
  {
   "cell_type": "code",
   "execution_count": null,
   "id": "9dcd5b5d-54ac-4ffe-903e-c788b55cbec7",
   "metadata": {},
   "outputs": [],
   "source": [
    "from torch import nn\n",
    "import torch_geometric.nn as tgnn\n",
    "from graphormer.model import Graphormer\n",
    "\n",
    "\n",
    "model = Graphormer(\n",
    "    num_layers=3,\n",
    "    input_dim=5,\n",
    "    emb_dim=128,\n",
    "    input_edge_attr_dim=4,\n",
    "    edge_attr_dim=16,\n",
    "    output_dim=1,\n",
    "    num_radial=10,\n",
    "    radial_min=0,\n",
    "    radial_max=10,\n",
    "    num_heads=4,\n",
    ")"
   ]
  },
  {
   "cell_type": "code",
   "execution_count": null,
   "id": "cb0b624d-7d7d-423c-acf2-5c1e0d033917",
   "metadata": {},
   "outputs": [],
   "source": [
    "from sklearn.model_selection import train_test_split\n",
    "\n",
    "test_ids, train_ids = train_test_split([i for i in range(len(qm9))], test_size=0.8, random_state=42)\n",
    "train_loader = DataLoader(Subset(qm9, train_ids), batch_size=64)\n",
    "test_loader = DataLoader(Subset(qm9, test_ids), batch_size=64)"
   ]
  },
  {
   "cell_type": "code",
   "execution_count": null,
   "id": "af514e6d-cfd9-46b0-8725-45b422f9db83",
   "metadata": {},
   "outputs": [],
   "source": [
    "optimizer = torch.optim.AdamW(model.parameters(), lr=1e-4)\n",
    "loss_functin = nn.MSELoss(reduction=\"sum\")"
   ]
  },
  {
   "cell_type": "code",
   "execution_count": null,
   "id": "37f42e66-2ca7-457d-9218-080bd1400ab0",
   "metadata": {},
   "outputs": [],
   "source": [
    "from tqdm import tqdm\n",
    "from torch_geometric.nn.pool import global_mean_pool\n",
    "\n",
    "DEVICE = \"cuda\"\n",
    "\n",
    "model.to(DEVICE)\n",
    "for epoch in range(5):\n",
    "    model.train()\n",
    "    batch_loss = 0.0\n",
    "    for i, batch in enumerate(train_loader):\n",
    "        batch.to(DEVICE)\n",
    "        y = batch.y[:, 7]\n",
    "        optimizer.zero_grad()\n",
    "        batch.x = batch.x[:, :5]\n",
    "\n",
    "        edge_attr = torch.zeros(batch.x.shape[0], batch.x.shape[0], 4).to(DEVICE)\n",
    "        edge_attr[batch.edge_index[0], batch.edge_index[1]] = batch.edge_attr\n",
    "\n",
    "        batch.edge_attr = edge_attr\n",
    "\n",
    "        output = global_mean_pool(model(batch), batch.batch)\n",
    "\n",
    "        loss = loss_functin(output.squeeze(), y)\n",
    "        batch_loss += loss.item()\n",
    "        loss.backward()\n",
    "        # torch.nn.utils.clip_grad_norm_(model.parameters(), 1.0)\n",
    "        optimizer.step()\n",
    "\n",
    "        if i % 10 == 0:\n",
    "            print(\"LOSS\", loss.item() / len(batch.y))\n",
    "    print(\"TRAIN_LOSS\", batch_loss / len(train_ids))\n",
    "\n",
    "    model.eval()\n",
    "    with torch.no_grad():\n",
    "        batch_loss = 0.0\n",
    "\n",
    "\n",
    "\n",
    "        for batch in tqdm(test_loader):\n",
    "            batch.to(DEVICE)\n",
    "            y = batch.y[:, 7]\n",
    "            batch.x = batch.x[:, :5]\n",
    "            edge_attr = torch.zeros(batch.x.shape[0], batch.x.shape[0], 4).to(DEVICE)\n",
    "            edge_attr[batch.edge_index[0], batch.edge_index[1]] = batch.edge_attr\n",
    "\n",
    "            batch.edge_attr = edge_attr\n",
    "            with torch.no_grad():\n",
    "                output = global_mean_pool(model(batch).squeeze(), batch.batch)\n",
    "                loss = loss_functin(output, y)\n",
    "                \n",
    "            batch_loss += loss.item()\n",
    "\n",
    "    print(\"EVAL LOSS\", batch_loss / len(test_ids))\n",
    "\n",
    "    "
   ]
  },
  {
   "cell_type": "markdown",
   "id": "3083b341",
   "metadata": {},
   "source": [
    "Testing Modules"
   ]
  },
  {
   "cell_type": "code",
   "execution_count": null,
   "id": "8d966391",
   "metadata": {},
   "outputs": [],
   "source": [
    "from graphormer.layers import RadialBasisEmbedding, GraphormerEncoderLayer\n",
    "from graphormer.model import Graphormer"
   ]
  },
  {
   "cell_type": "code",
   "execution_count": null,
   "id": "f7985462",
   "metadata": {},
   "outputs": [],
   "source": [
    "import torch\n",
    "import torch.nn as nn\n",
    "from torch.nn import functional as F\n",
    "from typing import Tuple\n",
    "from torch_geometric.data import Data\n",
    "\n",
    "\n",
    "# Node features (embeddings) for both graphs combined\n",
    "node_features = torch.rand((12, 64))  # 5 nodes from graph 1 + 7 nodes from graph 2, each with 64-dim features\n",
    "\n",
    "# Edge attributes for both graphs combined\n",
    "edge_attributes = torch.rand((12, 12, 16))  # 4 edges from graph 1 + 6 edges from graph 2, each with 16-dim attributes\n",
    "\n",
    "# Radial basis embedding for both graphs\n",
    "rb_embedding = torch.rand((12, 12, 5))  # 5 radial basis functions\n",
    "\n",
    "# Batch pointers\n",
    "ptr = torch.tensor([0, 5, 12])  # Pointers showing where each graph starts in the node features\n",
    "\n",
    "pos = torch.rand((12, 3))  # 5 nodes from graph 1 + 7 nodes from graph 2, each with 2-dim positions\n",
    "\n",
    "# Initialize GraphormerEncoderLayer\n",
    "# encoder_layer = GraphormerEncoderLayer(emb_dim=64, num_heads=8, num_radial=5, edge_attr_dim=16)\n",
    "# output = encoder_layer(node_features, rb_embedding, edge_attributes, ptr)\n",
    "# output.shape\n",
    "\n",
    "graphormer = Graphormer(\n",
    "    num_layers=3,\n",
    "    input_dim=64,\n",
    "    emb_dim=128,\n",
    "    input_edge_attr_dim=16,\n",
    "    edge_attr_dim=64,\n",
    "    output_dim=128,\n",
    "    num_radial=5,\n",
    "    radial_min=0,\n",
    "    radial_max=10,\n",
    "    num_heads=4,\n",
    ")\n",
    "\n",
    "\n",
    "data = Data(\n",
    "    x = node_features,\n",
    "    edge_attr = edge_attributes,\n",
    "    ptr = ptr,\n",
    "    batch=torch.tensor([0, 0, 0, 0, 0, 1, 1, 1, 1, 1, 1, 1]),\n",
    "    pos = pos,\n",
    ")\n",
    "\n",
    "graphormer(data).shape"
   ]
  }
 ],
 "metadata": {
  "kernelspec": {
   "display_name": "Python 3 (ipykernel)",
   "language": "python",
   "name": "python3"
  },
  "language_info": {
   "codemirror_mode": {
    "name": "ipython",
    "version": 3
   },
   "file_extension": ".py",
   "mimetype": "text/x-python",
   "name": "python",
   "nbconvert_exporter": "python",
   "pygments_lexer": "ipython3",
   "version": "3.10.12"
  }
 },
 "nbformat": 4,
 "nbformat_minor": 5
}
